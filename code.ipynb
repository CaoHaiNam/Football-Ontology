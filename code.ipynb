{
 "cells": [
  {
   "cell_type": "code",
   "execution_count": 1,
   "metadata": {},
   "outputs": [
    {
     "name": "stderr",
     "output_type": "stream",
     "text": [
      "/tmp/ipykernel_449850/1625482038.py:22: DeprecationWarning: executable_path has been deprecated, please pass in a Service object\n",
      "  driver = webdriver.Chrome('./chromedriver', options=chrome_options)\n"
     ]
    }
   ],
   "source": [
    "import csv\n",
    "from selenium import webdriver\n",
    "import json\n",
    "from selenium.webdriver.chrome.options import Options as ChromeOptions\n",
    "\n",
    "UserInput = 'https://vi.wikipedia.org/wiki/L%E1%BB%87nh_H%E1%BB%93_Xung'\n",
    "\n",
    "chrome_options = ChromeOptions()\n",
    "chrome_options.add_argument('--headless')\n",
    "chrome_options.add_argument('--incognito')\n",
    "user_agent = 'Mozilla/5.0 (Windows NT 10.0; Win64; x64) AppleWebKit/537.36 (KHTML, like Gecko) Chrome/83.0.4103.116 Safari/537.36'\n",
    "# chrome_options.add_argument(f'--user-agent={user_agent}')\n",
    "chrome_options.add_argument('--disable-blink-features=AutomationControlled')\n",
    "chrome_options.add_experimental_option(\"detach\", True)\n",
    "# chrome_options.add_experimental_option('w3c', False)\n",
    "chrome_options.add_argument('--no-sandbox')\n",
    "chrome_options.add_argument(\"--disable-dev-shm-usage\")\n",
    "chrome_options.add_argument('--window-size=1920x1080')\n",
    "chrome_options.add_argument('--disable-gpu')\n",
    "chrome_options.add_argument('--allow-running-insecure-content')\n",
    "\n",
    "driver = webdriver.Chrome('./chromedriver', options=chrome_options)\n",
    "\n",
    "# open the website\n",
    "driver.get(UserInput)\n",
    "\n",
    "x = driver.find_element('xpath', '//*[@id=\"mw-content-text\"]/div[1]/table[1]/tbody')"
   ]
  },
  {
   "cell_type": "code",
   "execution_count": 4,
   "metadata": {},
   "outputs": [
    {
     "data": {
      "text/plain": [
       "'Lệnh Hồ Xung\\nSáng tạo ra bởi Kim Dung\\nXuất hiện trong Tiếu ngạo giang hồ\\nThông tin cá nhân\\nGiới Nam\\nVợ/Chồng Nhậm Doanh Doanh\\nKết giao\\nBang, phái Hoa Sơn,\\nHằng Sơn\\nSư phụ Nhạc Bất Quần\\nVõ công\\nNội công Hấp tinh đại pháp,\\nDịch cân kinh\\nPhép sử binh khí Độc cô cửu kiếm\\nNgũ Nhạc kiếm pháp'"
      ]
     },
     "execution_count": 4,
     "metadata": {},
     "output_type": "execute_result"
    }
   ],
   "source": [
    "x.text"
   ]
  },
  {
   "cell_type": "code",
   "execution_count": null,
   "metadata": {},
   "outputs": [],
   "source": []
  },
  {
   "cell_type": "code",
   "execution_count": 38,
   "metadata": {},
   "outputs": [],
   "source": [
    "x = driver.find_element('xpath', '//*[@id=\"mw-content-text\"]/div[1]/table[1]/tbody/tr[5]')"
   ]
  },
  {
   "cell_type": "code",
   "execution_count": 40,
   "metadata": {},
   "outputs": [
    {
     "data": {
      "text/plain": [
       "'Giới Nam'"
      ]
     },
     "execution_count": 40,
     "metadata": {},
     "output_type": "execute_result"
    }
   ],
   "source": [
    "x.text"
   ]
  },
  {
   "cell_type": "code",
   "execution_count": 72,
   "metadata": {},
   "outputs": [
    {
     "name": "stdout",
     "output_type": "stream",
     "text": [
      "b'L%E1%BB%87nh_H%E1%BB%93_Xung'\n"
     ]
    }
   ],
   "source": [
    "from urllib.parse import unquote, quote\n",
    "\n",
    "url = quote('Lệnh_Hồ_Xung').encode('utf8')\n",
    "print(url)"
   ]
  },
  {
   "cell_type": "code",
   "execution_count": 70,
   "metadata": {},
   "outputs": [
    {
     "data": {
      "text/plain": [
       "b'L\\xe1\\xbb\\x87nh_H\\xe1\\xbb\\x93_Xung'"
      ]
     },
     "execution_count": 70,
     "metadata": {},
     "output_type": "execute_result"
    }
   ],
   "source": [
    " x = 'Lệnh_Hồ_Xung'\n",
    " x.encode('utf-8')"
   ]
  },
  {
   "cell_type": "code",
   "execution_count": 11,
   "metadata": {},
   "outputs": [
    {
     "data": {
      "text/plain": [
       "'https://vi.wikipedia.org/wiki/L%E1%BB%87nh_H%E1%BB%93_Xung'"
      ]
     },
     "execution_count": 11,
     "metadata": {},
     "output_type": "execute_result"
    }
   ],
   "source": [
    "'https://vi.wikipedia.org/wiki/L%E1%BB%87nh_H%E1%BB%93_Xung'"
   ]
  },
  {
   "cell_type": "code",
   "execution_count": 2,
   "metadata": {},
   "outputs": [],
   "source": [
    "from pandas import read_html\n",
    "# page = 'https://vi.wikipedia.org/wiki/L%E1%BB%87nh_H%E1%BB%93_Xung'4\n",
    "# page = 'https://vi.wikipedia.org/wiki/Qu%C3%A1ch_T%C4%A9nh'\n",
    "page = 'https://en.wikipedia.org/wiki/2022%E2%80%9323_Premier_League'\n",
    "infoboxes = read_html(page, index_col=0, attrs={\"class\":\"infobox\"})\n",
    "\n",
    "\n",
    "\n",
    "\n",
    "# wikitables = read_html(page, index_col=0, attrs={\"class\":\"wikitable\"})"
   ]
  },
  {
   "cell_type": "code",
   "execution_count": 3,
   "metadata": {},
   "outputs": [
    {
     "name": "stdout",
     "output_type": "stream",
     "text": [
      "Extracted 1 infoboxes\n"
     ]
    }
   ],
   "source": [
    "print (\"Extracted {num} infoboxes\".format(num=len(infoboxes)))\n",
    "# print (\"Extracted {num} wikitables\".format(num=len(wikitables)))"
   ]
  },
  {
   "cell_type": "code",
   "execution_count": 4,
   "metadata": {},
   "outputs": [],
   "source": [
    "res = dict()\n",
    "df = infoboxes[0]\n",
    "for i in range (len(df)):\n",
    "    key = df.iloc[i].name\n",
    "    value = list(df.iloc[i].to_dict().values())[0].split(',')\n",
    "    if key != value[0]:\n",
    "        res[key] = value"
   ]
  },
  {
   "cell_type": "code",
   "execution_count": 5,
   "metadata": {},
   "outputs": [
    {
     "data": {
      "text/plain": [
       "{'Season': ['2022–23'],\n",
       " 'Dates': ['5 August 2022 – 28 May 2023'],\n",
       " 'Matches played': ['77'],\n",
       " 'Goals scored': ['234\\xa0(3.04 per match)'],\n",
       " 'Top goalscorer': ['Erling Haaland(14 goals)'],\n",
       " 'Biggest home win': ['Liverpool 9–0 Bournemouth(27 August 2022)'],\n",
       " 'Biggest away win': ['Bournemouth 0–3 Arsenal(20 August 2022) Wolverhampton Wanderers 0–3 Manchester City(17 September 2022)Brentford 0–3 Arsenal(18 September 2022)Fulham 1–4 Newcastle United(1 October 2022)'],\n",
       " 'Highest scoring': ['Liverpool 9–0 Bournemouth(27 August 2022) Manchester City 6–3 Manchester United(2 October 2022)'],\n",
       " 'Longest winning run': ['7 matchesArsenal'],\n",
       " 'Longest unbeaten run': ['8 matchesManchester City'],\n",
       " 'Longest winless run': ['7 matchesLeicester City'],\n",
       " 'Longest losing run': ['6 matchesLeicester City'],\n",
       " 'Highest attendance': ['74',\n",
       "  '147Manchester United 2−1 Liverpool (22 August 2022)'],\n",
       " 'Lowest attendance': ['10', '000Bournemouth 2–0 Aston Villa(6 August 2022)']}"
      ]
     },
     "execution_count": 5,
     "metadata": {},
     "output_type": "execute_result"
    }
   ],
   "source": [
    "res"
   ]
  },
  {
   "cell_type": "code",
   "execution_count": 10,
   "metadata": {},
   "outputs": [],
   "source": [
    "table_MN = read_html('https://en.wikipedia.org/wiki/2022%E2%80%9323_Premier_League', match='Location')"
   ]
  },
  {
   "cell_type": "code",
   "execution_count": 11,
   "metadata": {},
   "outputs": [
    {
     "data": {
      "text/plain": [
       "1"
      ]
     },
     "execution_count": 11,
     "metadata": {},
     "output_type": "execute_result"
    }
   ],
   "source": [
    "len(table_MN)"
   ]
  },
  {
   "cell_type": "code",
   "execution_count": 16,
   "metadata": {},
   "outputs": [
    {
     "data": {
      "text/html": [
       "<div>\n",
       "<style scoped>\n",
       "    .dataframe tbody tr th:only-of-type {\n",
       "        vertical-align: middle;\n",
       "    }\n",
       "\n",
       "    .dataframe tbody tr th {\n",
       "        vertical-align: top;\n",
       "    }\n",
       "\n",
       "    .dataframe thead th {\n",
       "        text-align: right;\n",
       "    }\n",
       "</style>\n",
       "<table border=\"1\" class=\"dataframe\">\n",
       "  <thead>\n",
       "    <tr style=\"text-align: right;\">\n",
       "      <th></th>\n",
       "      <th>Team</th>\n",
       "      <th>Location</th>\n",
       "      <th>Stadium</th>\n",
       "      <th>Capacity</th>\n",
       "    </tr>\n",
       "  </thead>\n",
       "  <tbody>\n",
       "    <tr>\n",
       "      <th>0</th>\n",
       "      <td>Arsenal</td>\n",
       "      <td>London (Holloway)</td>\n",
       "      <td>Emirates Stadium</td>\n",
       "      <td>60704</td>\n",
       "    </tr>\n",
       "    <tr>\n",
       "      <th>1</th>\n",
       "      <td>Aston Villa</td>\n",
       "      <td>Birmingham</td>\n",
       "      <td>Villa Park</td>\n",
       "      <td>42657</td>\n",
       "    </tr>\n",
       "    <tr>\n",
       "      <th>2</th>\n",
       "      <td>Bournemouth</td>\n",
       "      <td>Bournemouth</td>\n",
       "      <td>Dean Court</td>\n",
       "      <td>11307</td>\n",
       "    </tr>\n",
       "    <tr>\n",
       "      <th>3</th>\n",
       "      <td>Brentford</td>\n",
       "      <td>London (Brentford)</td>\n",
       "      <td>Brentford Community Stadium</td>\n",
       "      <td>17250</td>\n",
       "    </tr>\n",
       "    <tr>\n",
       "      <th>4</th>\n",
       "      <td>Brighton &amp; Hove Albion</td>\n",
       "      <td>Falmer</td>\n",
       "      <td>Falmer Stadium</td>\n",
       "      <td>31800</td>\n",
       "    </tr>\n",
       "    <tr>\n",
       "      <th>5</th>\n",
       "      <td>Chelsea</td>\n",
       "      <td>London (Fulham)</td>\n",
       "      <td>Stamford Bridge</td>\n",
       "      <td>40343</td>\n",
       "    </tr>\n",
       "    <tr>\n",
       "      <th>6</th>\n",
       "      <td>Crystal Palace</td>\n",
       "      <td>London (Selhurst)</td>\n",
       "      <td>Selhurst Park</td>\n",
       "      <td>25486</td>\n",
       "    </tr>\n",
       "    <tr>\n",
       "      <th>7</th>\n",
       "      <td>Everton</td>\n",
       "      <td>Liverpool (Walton)</td>\n",
       "      <td>Goodison Park</td>\n",
       "      <td>39414</td>\n",
       "    </tr>\n",
       "    <tr>\n",
       "      <th>8</th>\n",
       "      <td>Fulham</td>\n",
       "      <td>London (Fulham)</td>\n",
       "      <td>Craven Cottage</td>\n",
       "      <td>22384</td>\n",
       "    </tr>\n",
       "    <tr>\n",
       "      <th>9</th>\n",
       "      <td>Leeds United</td>\n",
       "      <td>Leeds</td>\n",
       "      <td>Elland Road</td>\n",
       "      <td>37608</td>\n",
       "    </tr>\n",
       "    <tr>\n",
       "      <th>10</th>\n",
       "      <td>Leicester City</td>\n",
       "      <td>Leicester</td>\n",
       "      <td>King Power Stadium</td>\n",
       "      <td>32262</td>\n",
       "    </tr>\n",
       "    <tr>\n",
       "      <th>11</th>\n",
       "      <td>Liverpool</td>\n",
       "      <td>Liverpool (Anfield)</td>\n",
       "      <td>Anfield</td>\n",
       "      <td>53394</td>\n",
       "    </tr>\n",
       "    <tr>\n",
       "      <th>12</th>\n",
       "      <td>Manchester City</td>\n",
       "      <td>Manchester (Bradford)</td>\n",
       "      <td>City of Manchester Stadium</td>\n",
       "      <td>53400</td>\n",
       "    </tr>\n",
       "    <tr>\n",
       "      <th>13</th>\n",
       "      <td>Manchester United</td>\n",
       "      <td>Manchester (Old Trafford)</td>\n",
       "      <td>Old Trafford</td>\n",
       "      <td>74310</td>\n",
       "    </tr>\n",
       "    <tr>\n",
       "      <th>14</th>\n",
       "      <td>Newcastle United</td>\n",
       "      <td>Newcastle upon Tyne</td>\n",
       "      <td>St James' Park</td>\n",
       "      <td>52305</td>\n",
       "    </tr>\n",
       "    <tr>\n",
       "      <th>15</th>\n",
       "      <td>Nottingham Forest</td>\n",
       "      <td>West Bridgford</td>\n",
       "      <td>City Ground</td>\n",
       "      <td>30445</td>\n",
       "    </tr>\n",
       "    <tr>\n",
       "      <th>16</th>\n",
       "      <td>Southampton</td>\n",
       "      <td>Southampton</td>\n",
       "      <td>St Mary's Stadium</td>\n",
       "      <td>32384</td>\n",
       "    </tr>\n",
       "    <tr>\n",
       "      <th>17</th>\n",
       "      <td>Tottenham Hotspur</td>\n",
       "      <td>London (Tottenham)</td>\n",
       "      <td>Tottenham Hotspur Stadium</td>\n",
       "      <td>62850</td>\n",
       "    </tr>\n",
       "    <tr>\n",
       "      <th>18</th>\n",
       "      <td>West Ham United</td>\n",
       "      <td>London (Stratford)</td>\n",
       "      <td>London Stadium</td>\n",
       "      <td>62,500[6]</td>\n",
       "    </tr>\n",
       "    <tr>\n",
       "      <th>19</th>\n",
       "      <td>Wolverhampton Wanderers</td>\n",
       "      <td>Wolverhampton</td>\n",
       "      <td>Molineux Stadium</td>\n",
       "      <td>31750</td>\n",
       "    </tr>\n",
       "  </tbody>\n",
       "</table>\n",
       "</div>"
      ],
      "text/plain": [
       "                       Team                   Location  \\\n",
       "0                   Arsenal          London (Holloway)   \n",
       "1               Aston Villa                 Birmingham   \n",
       "2               Bournemouth                Bournemouth   \n",
       "3                 Brentford         London (Brentford)   \n",
       "4    Brighton & Hove Albion                     Falmer   \n",
       "5                   Chelsea            London (Fulham)   \n",
       "6            Crystal Palace          London (Selhurst)   \n",
       "7                   Everton         Liverpool (Walton)   \n",
       "8                    Fulham            London (Fulham)   \n",
       "9              Leeds United                      Leeds   \n",
       "10           Leicester City                  Leicester   \n",
       "11                Liverpool        Liverpool (Anfield)   \n",
       "12          Manchester City      Manchester (Bradford)   \n",
       "13        Manchester United  Manchester (Old Trafford)   \n",
       "14         Newcastle United        Newcastle upon Tyne   \n",
       "15        Nottingham Forest             West Bridgford   \n",
       "16              Southampton                Southampton   \n",
       "17        Tottenham Hotspur         London (Tottenham)   \n",
       "18          West Ham United         London (Stratford)   \n",
       "19  Wolverhampton Wanderers              Wolverhampton   \n",
       "\n",
       "                        Stadium   Capacity  \n",
       "0              Emirates Stadium      60704  \n",
       "1                    Villa Park      42657  \n",
       "2                    Dean Court      11307  \n",
       "3   Brentford Community Stadium      17250  \n",
       "4                Falmer Stadium      31800  \n",
       "5               Stamford Bridge      40343  \n",
       "6                 Selhurst Park      25486  \n",
       "7                 Goodison Park      39414  \n",
       "8                Craven Cottage      22384  \n",
       "9                   Elland Road      37608  \n",
       "10           King Power Stadium      32262  \n",
       "11                      Anfield      53394  \n",
       "12   City of Manchester Stadium      53400  \n",
       "13                 Old Trafford      74310  \n",
       "14               St James' Park      52305  \n",
       "15                  City Ground      30445  \n",
       "16            St Mary's Stadium      32384  \n",
       "17    Tottenham Hotspur Stadium      62850  \n",
       "18               London Stadium  62,500[6]  \n",
       "19             Molineux Stadium      31750  "
      ]
     },
     "execution_count": 16,
     "metadata": {},
     "output_type": "execute_result"
    }
   ],
   "source": [
    "df = table_MN[0]\n",
    "df.head(20)"
   ]
  },
  {
   "cell_type": "code",
   "execution_count": 3,
   "metadata": {},
   "outputs": [],
   "source": [
    "table_MN = read_html('https://en.wikipedia.org/wiki/2022%E2%80%9323_Premier_League', match='Manager')"
   ]
  },
  {
   "cell_type": "code",
   "execution_count": 4,
   "metadata": {},
   "outputs": [
    {
     "data": {
      "text/html": [
       "<div>\n",
       "<style scoped>\n",
       "    .dataframe tbody tr th:only-of-type {\n",
       "        vertical-align: middle;\n",
       "    }\n",
       "\n",
       "    .dataframe tbody tr th {\n",
       "        vertical-align: top;\n",
       "    }\n",
       "\n",
       "    .dataframe thead th {\n",
       "        text-align: right;\n",
       "    }\n",
       "</style>\n",
       "<table border=\"1\" class=\"dataframe\">\n",
       "  <thead>\n",
       "    <tr style=\"text-align: right;\">\n",
       "      <th></th>\n",
       "      <th>Team</th>\n",
       "      <th>Manager</th>\n",
       "      <th>Captain</th>\n",
       "      <th>Kit manufacturer</th>\n",
       "      <th>Shirt sponsor (chest)</th>\n",
       "      <th>Shirt sponsor (sleeve)</th>\n",
       "    </tr>\n",
       "  </thead>\n",
       "  <tbody>\n",
       "    <tr>\n",
       "      <th>0</th>\n",
       "      <td>Arsenal</td>\n",
       "      <td>Mikel Arteta</td>\n",
       "      <td>Martin Ødegaard</td>\n",
       "      <td>Adidas[7]</td>\n",
       "      <td>Emirates[8]</td>\n",
       "      <td>Visit Rwanda[9]</td>\n",
       "    </tr>\n",
       "    <tr>\n",
       "      <th>1</th>\n",
       "      <td>Aston Villa</td>\n",
       "      <td>Steven Gerrard</td>\n",
       "      <td>John McGinn</td>\n",
       "      <td>Castore[10]</td>\n",
       "      <td>Cazoo[11]</td>\n",
       "      <td>Kaiyun Sports[12]</td>\n",
       "    </tr>\n",
       "    <tr>\n",
       "      <th>2</th>\n",
       "      <td>Bournemouth</td>\n",
       "      <td>Gary O'Neil (interim)</td>\n",
       "      <td>Lloyd Kelly</td>\n",
       "      <td>Umbro</td>\n",
       "      <td>Dafabet[13]</td>\n",
       "      <td>DeWalt[14]</td>\n",
       "    </tr>\n",
       "    <tr>\n",
       "      <th>3</th>\n",
       "      <td>Brentford</td>\n",
       "      <td>Thomas Frank</td>\n",
       "      <td>Pontus Jansson</td>\n",
       "      <td>Umbro</td>\n",
       "      <td>Hollywoodbets[15]</td>\n",
       "      <td>Safetyculture</td>\n",
       "    </tr>\n",
       "    <tr>\n",
       "      <th>4</th>\n",
       "      <td>Brighton &amp; Hove Albion</td>\n",
       "      <td>Roberto De Zerbi</td>\n",
       "      <td>Lewis Dunk</td>\n",
       "      <td>Nike[16]</td>\n",
       "      <td>American Express[16]</td>\n",
       "      <td>SnickersUK.com[17]</td>\n",
       "    </tr>\n",
       "    <tr>\n",
       "      <th>5</th>\n",
       "      <td>Chelsea</td>\n",
       "      <td>Graham Potter</td>\n",
       "      <td>César Azpilicueta</td>\n",
       "      <td>Nike</td>\n",
       "      <td>Three[18]</td>\n",
       "      <td>WhaleFin[19]</td>\n",
       "    </tr>\n",
       "    <tr>\n",
       "      <th>6</th>\n",
       "      <td>Crystal Palace</td>\n",
       "      <td>Patrick Vieira</td>\n",
       "      <td>Luka Milivojević</td>\n",
       "      <td>Macron[20]</td>\n",
       "      <td>Cinch[21]</td>\n",
       "      <td>Mukuru[22]</td>\n",
       "    </tr>\n",
       "    <tr>\n",
       "      <th>7</th>\n",
       "      <td>Everton</td>\n",
       "      <td>Frank Lampard</td>\n",
       "      <td>Séamus Coleman</td>\n",
       "      <td>Hummel[23]</td>\n",
       "      <td>Stake.com[24]</td>\n",
       "      <td>BOXT[25]</td>\n",
       "    </tr>\n",
       "    <tr>\n",
       "      <th>8</th>\n",
       "      <td>Fulham</td>\n",
       "      <td>Marco Silva</td>\n",
       "      <td>Tom Cairney</td>\n",
       "      <td>Adidas[26]</td>\n",
       "      <td>W88</td>\n",
       "      <td>World Mobile[27]</td>\n",
       "    </tr>\n",
       "    <tr>\n",
       "      <th>9</th>\n",
       "      <td>Leeds United</td>\n",
       "      <td>Jesse Marsch</td>\n",
       "      <td>Liam Cooper</td>\n",
       "      <td>Adidas[28]</td>\n",
       "      <td>SBOTOP[29]</td>\n",
       "      <td>Wish[30]</td>\n",
       "    </tr>\n",
       "    <tr>\n",
       "      <th>10</th>\n",
       "      <td>Leicester City</td>\n",
       "      <td>Brendan Rodgers</td>\n",
       "      <td>Jonny Evans</td>\n",
       "      <td>Adidas[31]</td>\n",
       "      <td>FBS[32]</td>\n",
       "      <td>Bia Saigon[33]</td>\n",
       "    </tr>\n",
       "    <tr>\n",
       "      <th>11</th>\n",
       "      <td>Liverpool</td>\n",
       "      <td>Jürgen Klopp</td>\n",
       "      <td>Jordan Henderson</td>\n",
       "      <td>Nike[34]</td>\n",
       "      <td>Standard Chartered[35]</td>\n",
       "      <td>Expedia[36]</td>\n",
       "    </tr>\n",
       "    <tr>\n",
       "      <th>12</th>\n",
       "      <td>Manchester City</td>\n",
       "      <td>Pep Guardiola</td>\n",
       "      <td>İlkay Gündoğan</td>\n",
       "      <td>Puma[37]</td>\n",
       "      <td>Etihad Airways[38]</td>\n",
       "      <td>Nexen Tire[39]</td>\n",
       "    </tr>\n",
       "    <tr>\n",
       "      <th>13</th>\n",
       "      <td>Manchester United</td>\n",
       "      <td>Erik ten Hag</td>\n",
       "      <td>Bruno Fernandes</td>\n",
       "      <td>Adidas[40]</td>\n",
       "      <td>TeamViewer[41]</td>\n",
       "      <td>DXC Technology[42]</td>\n",
       "    </tr>\n",
       "    <tr>\n",
       "      <th>14</th>\n",
       "      <td>Newcastle United</td>\n",
       "      <td>Eddie Howe</td>\n",
       "      <td>Jamaal Lascelles</td>\n",
       "      <td>Castore[43]</td>\n",
       "      <td>FUN88[44]</td>\n",
       "      <td>noon.com[45]</td>\n",
       "    </tr>\n",
       "    <tr>\n",
       "      <th>15</th>\n",
       "      <td>Nottingham Forest</td>\n",
       "      <td>Steve Cooper</td>\n",
       "      <td>Joe Worrall</td>\n",
       "      <td>Macron</td>\n",
       "      <td>TBA</td>\n",
       "      <td>TBA</td>\n",
       "    </tr>\n",
       "    <tr>\n",
       "      <th>16</th>\n",
       "      <td>Southampton</td>\n",
       "      <td>Ralph Hasenhüttl</td>\n",
       "      <td>James Ward-Prowse</td>\n",
       "      <td>Hummel[46]</td>\n",
       "      <td>Sportsbet.io[47]</td>\n",
       "      <td>JD Sports</td>\n",
       "    </tr>\n",
       "    <tr>\n",
       "      <th>17</th>\n",
       "      <td>Tottenham Hotspur</td>\n",
       "      <td>Antonio Conte</td>\n",
       "      <td>Hugo Lloris</td>\n",
       "      <td>Nike[48]</td>\n",
       "      <td>AIA[49]</td>\n",
       "      <td>Cinch[50]</td>\n",
       "    </tr>\n",
       "    <tr>\n",
       "      <th>18</th>\n",
       "      <td>West Ham United</td>\n",
       "      <td>David Moyes</td>\n",
       "      <td>Declan Rice</td>\n",
       "      <td>Umbro</td>\n",
       "      <td>Betway</td>\n",
       "      <td>Scope Markets[51]</td>\n",
       "    </tr>\n",
       "    <tr>\n",
       "      <th>19</th>\n",
       "      <td>Wolverhampton Wanderers</td>\n",
       "      <td>James Collins Steve Davis (joint-caretakers)</td>\n",
       "      <td>Rúben Neves</td>\n",
       "      <td>Castore[52]</td>\n",
       "      <td>AstroPay[53]</td>\n",
       "      <td>12BET</td>\n",
       "    </tr>\n",
       "  </tbody>\n",
       "</table>\n",
       "</div>"
      ],
      "text/plain": [
       "                       Team                                       Manager  \\\n",
       "0                   Arsenal                                  Mikel Arteta   \n",
       "1               Aston Villa                                Steven Gerrard   \n",
       "2               Bournemouth                         Gary O'Neil (interim)   \n",
       "3                 Brentford                                  Thomas Frank   \n",
       "4    Brighton & Hove Albion                              Roberto De Zerbi   \n",
       "5                   Chelsea                                 Graham Potter   \n",
       "6            Crystal Palace                                Patrick Vieira   \n",
       "7                   Everton                                 Frank Lampard   \n",
       "8                    Fulham                                   Marco Silva   \n",
       "9              Leeds United                                  Jesse Marsch   \n",
       "10           Leicester City                               Brendan Rodgers   \n",
       "11                Liverpool                                  Jürgen Klopp   \n",
       "12          Manchester City                                 Pep Guardiola   \n",
       "13        Manchester United                                  Erik ten Hag   \n",
       "14         Newcastle United                                    Eddie Howe   \n",
       "15        Nottingham Forest                                  Steve Cooper   \n",
       "16              Southampton                              Ralph Hasenhüttl   \n",
       "17        Tottenham Hotspur                                 Antonio Conte   \n",
       "18          West Ham United                                   David Moyes   \n",
       "19  Wolverhampton Wanderers  James Collins Steve Davis (joint-caretakers)   \n",
       "\n",
       "              Captain Kit manufacturer   Shirt sponsor (chest)  \\\n",
       "0     Martin Ødegaard        Adidas[7]             Emirates[8]   \n",
       "1         John McGinn      Castore[10]               Cazoo[11]   \n",
       "2         Lloyd Kelly            Umbro             Dafabet[13]   \n",
       "3      Pontus Jansson            Umbro       Hollywoodbets[15]   \n",
       "4          Lewis Dunk         Nike[16]    American Express[16]   \n",
       "5   César Azpilicueta             Nike               Three[18]   \n",
       "6    Luka Milivojević       Macron[20]               Cinch[21]   \n",
       "7      Séamus Coleman       Hummel[23]           Stake.com[24]   \n",
       "8         Tom Cairney       Adidas[26]                     W88   \n",
       "9         Liam Cooper       Adidas[28]              SBOTOP[29]   \n",
       "10        Jonny Evans       Adidas[31]                 FBS[32]   \n",
       "11   Jordan Henderson         Nike[34]  Standard Chartered[35]   \n",
       "12     İlkay Gündoğan         Puma[37]      Etihad Airways[38]   \n",
       "13    Bruno Fernandes       Adidas[40]          TeamViewer[41]   \n",
       "14   Jamaal Lascelles      Castore[43]               FUN88[44]   \n",
       "15        Joe Worrall           Macron                     TBA   \n",
       "16  James Ward-Prowse       Hummel[46]        Sportsbet.io[47]   \n",
       "17        Hugo Lloris         Nike[48]                 AIA[49]   \n",
       "18        Declan Rice            Umbro                  Betway   \n",
       "19        Rúben Neves      Castore[52]            AstroPay[53]   \n",
       "\n",
       "   Shirt sponsor (sleeve)  \n",
       "0         Visit Rwanda[9]  \n",
       "1       Kaiyun Sports[12]  \n",
       "2              DeWalt[14]  \n",
       "3           Safetyculture  \n",
       "4      SnickersUK.com[17]  \n",
       "5            WhaleFin[19]  \n",
       "6              Mukuru[22]  \n",
       "7                BOXT[25]  \n",
       "8        World Mobile[27]  \n",
       "9                Wish[30]  \n",
       "10         Bia Saigon[33]  \n",
       "11            Expedia[36]  \n",
       "12         Nexen Tire[39]  \n",
       "13     DXC Technology[42]  \n",
       "14           noon.com[45]  \n",
       "15                    TBA  \n",
       "16              JD Sports  \n",
       "17              Cinch[50]  \n",
       "18      Scope Markets[51]  \n",
       "19                  12BET  "
      ]
     },
     "execution_count": 4,
     "metadata": {},
     "output_type": "execute_result"
    }
   ],
   "source": [
    "df_manager = table_MN[0]\n",
    "df_manager.head(20)"
   ]
  },
  {
   "cell_type": "code",
   "execution_count": null,
   "metadata": {},
   "outputs": [],
   "source": []
  },
  {
   "cell_type": "code",
   "execution_count": 14,
   "metadata": {},
   "outputs": [
    {
     "data": {
      "text/plain": [
       "20"
      ]
     },
     "execution_count": 14,
     "metadata": {},
     "output_type": "execute_result"
    }
   ],
   "source": [
    "len(df)"
   ]
  },
  {
   "cell_type": "code",
   "execution_count": 44,
   "metadata": {},
   "outputs": [],
   "source": [
    "# infoboxes[0].iloc[:]"
   ]
  },
  {
   "cell_type": "code",
   "execution_count": 52,
   "metadata": {},
   "outputs": [],
   "source": [
    "# wikitables"
   ]
  },
  {
   "cell_type": "code",
   "execution_count": 90,
   "metadata": {},
   "outputs": [
    {
     "data": {
      "text/plain": [
       "'Nh%E1%BA%ADm_Doanh_Doanh'"
      ]
     },
     "execution_count": 90,
     "metadata": {},
     "output_type": "execute_result"
    }
   ],
   "source": [
    "page = quote(''.join(['', 'Nhậm_Doanh_Doanh'])).encode('utf-8')\n",
    "page.decode('utf-8')"
   ]
  },
  {
   "cell_type": "code",
   "execution_count": 83,
   "metadata": {},
   "outputs": [],
   "source": [
    "from urllib.parse import unquote, quote\n",
    "page = quote(''.join(['', 'Nhạc_Linh_San'])).encode('utf-8')\n",
    "page = 'https://vi.wikipedia.org/wiki/' + page.decode('utf-8')"
   ]
  },
  {
   "cell_type": "code",
   "execution_count": 84,
   "metadata": {},
   "outputs": [],
   "source": [
    "infoboxes = read_html(page, index_col=0, attrs={\"class\":\"infobox\"})"
   ]
  },
  {
   "cell_type": "code",
   "execution_count": 85,
   "metadata": {},
   "outputs": [
    {
     "data": {
      "text/plain": [
       "'Tiếu ngạo giang hồ'"
      ]
     },
     "execution_count": 85,
     "metadata": {},
     "output_type": "execute_result"
    }
   ],
   "source": [
    "infoboxes[0].columns.tolist()[0][:-2]"
   ]
  },
  {
   "cell_type": "code",
   "execution_count": 86,
   "metadata": {},
   "outputs": [],
   "source": [
    "res = dict()\n",
    "df = infoboxes[0]\n",
    "for i in range (len(df)):\n",
    "    key = df.iloc[i].name\n",
    "    value = list(df.iloc[i].to_dict().values())[0].split(',')\n",
    "    if key != value[0]:\n",
    "        res[key] = value"
   ]
  },
  {
   "cell_type": "code",
   "execution_count": 87,
   "metadata": {},
   "outputs": [
    {
     "data": {
      "text/plain": [
       "{'Tác giả': ['Kim Dung'],\n",
       " 'Quốc gia': ['Trung Quốc'],\n",
       " 'Ngôn ngữ': ['tiếng Trung'],\n",
       " 'Thể loại': ['Kiếm hiệp'],\n",
       " 'Nhà xuất bản': ['Hương Cảng Thương báo'],\n",
       " 'Ngày phát hành': ['1967'],\n",
       " 'Người dịch': ['Vũ Đức Sao BiểnLê Thị Anh ĐàoTrần Hải Linh'],\n",
       " 'Nhà\\xa0xuất\\xa0bản': ['Nhà xuất bản Văn học'],\n",
       " 'Ngày\\xa0phát\\xa0hành': ['tháng 3 năm 2005(Tái bản lần 2)'],\n",
       " 'Kiểu sách': ['bìa mềm bìa cứng'],\n",
       " 'Số trang': ['3218']}"
      ]
     },
     "execution_count": 87,
     "metadata": {},
     "output_type": "execute_result"
    }
   ],
   "source": [
    "res"
   ]
  },
  {
   "cell_type": "code",
   "execution_count": null,
   "metadata": {},
   "outputs": [],
   "source": []
  },
  {
   "cell_type": "code",
   "execution_count": 5,
   "metadata": {},
   "outputs": [],
   "source": [
    "from selenium.webdriver.common.by import By"
   ]
  },
  {
   "cell_type": "code",
   "execution_count": 51,
   "metadata": {},
   "outputs": [],
   "source": [
    "urls = ['https://vi.wikipedia.org/wiki/Danh_s%C3%A1ch_nh%C3%A2n_v%E1%BA%ADt_trong_Ti%E1%BA%BFu_ng%E1%BA%A1o_giang_h%E1%BB%93#Nh%C3%A2n_v%E1%BA%ADt_ch%C3%ADnh',\n",
    "        'https://vi.wikipedia.org/wiki/Danh_s%C3%A1ch_nh%C3%A2n_v%E1%BA%ADt_trong_Anh_h%C3%B9ng_x%E1%BA%A1_%C4%91i%C3%AAu',\n",
    "        'https://vi.wikipedia.org/wiki/Danh_s%C3%A1ch_nh%C3%A2n_v%E1%BA%ADt_trong_Th%E1%BA%A7n_%C4%91i%C3%AAu_hi%E1%BB%87p_l%E1%BB%AF',\n",
    "        'https://vi.wikipedia.org/wiki/Danh_s%C3%A1ch_nh%C3%A2n_v%E1%BA%ADt_trong_%E1%BB%B6_Thi%C3%AAn_%C4%90%E1%BB%93_Long_k%C3%BD',\n",
    "        'https://vi.wikipedia.org/wiki/Danh_s%C3%A1ch_nh%C3%A2n_v%E1%BA%ADt_trong_Thi%C3%AAn_long_b%C3%A1t_b%E1%BB%99'\n",
    "]"
   ]
  },
  {
   "cell_type": "code",
   "execution_count": 61,
   "metadata": {},
   "outputs": [],
   "source": [
    "characters = []\n",
    "\n",
    "for url in urls:\n",
    "    driver.get(url)\n",
    "    a = driver.find_elements(By.CLASS_NAME, \"mw-headline\")\n",
    "    for i in a:\n",
    "        # print(dir(i))\n",
    "        characters.append(i.text)\n",
    "        # break\n",
    "\n",
    "characters = list(set(characters))"
   ]
  },
  {
   "cell_type": "code",
   "execution_count": 62,
   "metadata": {},
   "outputs": [],
   "source": [
    "with open('characters.txt', 'w') as f:\n",
    "    for c in characters:\n",
    "        f.write(c)\n",
    "        f.write('\\n')\n",
    "f.close()"
   ]
  },
  {
   "cell_type": "code",
   "execution_count": 57,
   "metadata": {},
   "outputs": [],
   "source": [
    "# driver.get(url)"
   ]
  },
  {
   "cell_type": "code",
   "execution_count": 58,
   "metadata": {},
   "outputs": [],
   "source": [
    "# a = driver.find_elements(By.CLASS_NAME, \"mw-headline\")"
   ]
  },
  {
   "cell_type": "code",
   "execution_count": 59,
   "metadata": {},
   "outputs": [],
   "source": [
    "# characters = []\n",
    "# for i in a:\n",
    "#     # print(dir(i))\n",
    "#     characters.append(i.text)\n",
    "#     # break"
   ]
  },
  {
   "cell_type": "code",
   "execution_count": 60,
   "metadata": {},
   "outputs": [],
   "source": [
    "# characters"
   ]
  },
  {
   "cell_type": "code",
   "execution_count": null,
   "metadata": {},
   "outputs": [],
   "source": []
  },
  {
   "cell_type": "code",
   "execution_count": null,
   "metadata": {},
   "outputs": [],
   "source": [
    "with open('characters.txt', 'r') as f:\n",
    "    characters = []\n",
    "    for i in f:\n",
    "        characters.append(i.strip('\\n'))\n",
    "characters[:10]"
   ]
  },
  {
   "cell_type": "code",
   "execution_count": 90,
   "metadata": {},
   "outputs": [],
   "source": [
    "from urllib.parse import unquote, quote\n",
    "\n",
    "res = dict()\n",
    "for char in characters:\n",
    "    page = quote('_'.join(char.split())).encode('utf-8')\n",
    "    page = 'https://vi.wikipedia.org/wiki/' + page.decode('utf-8')\n",
    "    try:\n",
    "        infoboxes = read_html(page, index_col=0, attrs={\"class\":\"infobox\"})\n",
    "        res[char] = dict()\n",
    "        df = infoboxes[0]\n",
    "        res[char]['box_name'] = df.columns.tolist()[0][:-2]\n",
    "        for i in range (len(df)):\n",
    "            key = df.iloc[i].name\n",
    "            value = list(df.iloc[i].to_dict().values())[0].split(',')\n",
    "            if key != value[0]:\n",
    "                res[char][key] = value\n",
    "    except:\n",
    "        continue"
   ]
  },
  {
   "cell_type": "code",
   "execution_count": 91,
   "metadata": {},
   "outputs": [
    {
     "data": {
      "text/plain": [
       "59"
      ]
     },
     "execution_count": 91,
     "metadata": {},
     "output_type": "execute_result"
    }
   ],
   "source": [
    "len(res)"
   ]
  },
  {
   "cell_type": "code",
   "execution_count": null,
   "metadata": {},
   "outputs": [],
   "source": [
    "res"
   ]
  },
  {
   "cell_type": "code",
   "execution_count": 94,
   "metadata": {},
   "outputs": [
    {
     "data": {
      "text/plain": [
       "59"
      ]
     },
     "execution_count": 94,
     "metadata": {},
     "output_type": "execute_result"
    }
   ],
   "source": [
    "len(res)"
   ]
  },
  {
   "cell_type": "code",
   "execution_count": 96,
   "metadata": {},
   "outputs": [],
   "source": [
    "import json\n",
    "with open('data.json', 'w', encoding='utf-8') as f:\n",
    "    json.dump(res, f, ensure_ascii=False, indent=4)"
   ]
  },
  {
   "cell_type": "code",
   "execution_count": 93,
   "metadata": {},
   "outputs": [
    {
     "name": "stdout",
     "output_type": "stream",
     "text": [
      "{'box_name': (), 'Tại vị': ['1108 - 1147'], 'Tiền nhiệm': ['Đoàn Chính Thuần'], 'Kế nhiệm': ['Đoàn Chính Hưng'], 'Hoàng tộc': ['Vương quốc Đại Lý'], 'Thân phụ': ['Đoàn Chính Thuần']}\n"
     ]
    }
   ],
   "source": [
    "for i in res:\n",
    "    print(res[i])\n",
    "    break"
   ]
  },
  {
   "cell_type": "code",
   "execution_count": 1,
   "metadata": {},
   "outputs": [
    {
     "name": "stdout",
     "output_type": "stream",
     "text": [
      "43\n"
     ]
    }
   ],
   "source": [
    "import json \n",
    "with open('data.json', 'r', encoding='utf8') as f:\n",
    "    data = json.load(f)\n",
    "print(len(data))"
   ]
  },
  {
   "cell_type": "code",
   "execution_count": null,
   "metadata": {},
   "outputs": [],
   "source": []
  },
  {
   "cell_type": "code",
   "execution_count": null,
   "metadata": {},
   "outputs": [],
   "source": []
  },
  {
   "cell_type": "code",
   "execution_count": null,
   "metadata": {},
   "outputs": [],
   "source": []
  },
  {
   "cell_type": "code",
   "execution_count": null,
   "metadata": {},
   "outputs": [],
   "source": []
  },
  {
   "cell_type": "code",
   "execution_count": 4,
   "metadata": {},
   "outputs": [],
   "source": [
    "from rdflib import Graph, Literal, RDF, URIRef, Namespace\n",
    "# rdflib knows about quite a few popular namespaces, like W3C ontologies, schema.org etc.\n",
    "from rdflib.namespace import FOAF , XSD, OWL"
   ]
  },
  {
   "cell_type": "code",
   "execution_count": 5,
   "metadata": {},
   "outputs": [],
   "source": [
    "dbpedia = Namespace(\"http://dbpedia.org/ontology/\")"
   ]
  },
  {
   "cell_type": "code",
   "execution_count": 6,
   "metadata": {},
   "outputs": [],
   "source": [
    "# dbpedia.SoccerPlayer"
   ]
  },
  {
   "cell_type": "markdown",
   "metadata": {},
   "source": [
    "* XSD.int\n",
    "* OWL.NamedIndividual\n",
    "* RDF.type"
   ]
  },
  {
   "cell_type": "code",
   "execution_count": 148,
   "metadata": {},
   "outputs": [],
   "source": [
    "prefix = \"http://www.semanticweb.org/caohainam/ontologies/2022/9/football-ontology#\"\n",
    "\n",
    "class Class:\n",
    "    Person = URIRef(\"http://www.semanticweb.org/caohainam/ontologies/2022/9/football-ontology#Person\")\n",
    "    Manager = URIRef(\"http://www.semanticweb.org/caohainam/ontologies/2022/9/football-ontology#Manager\")\n",
    "    # Player = URIRef(\"http://www.semanticweb.org/caohainam/ontologies/2022/9/football-ontology#Player\")\n",
    "    Player = dbpedia.SoccerPlayer\n",
    "    Stadium = URIRef(\"http://www.semanticweb.org/caohainam/ontologies/2022/9/football-ontology#Stadium\")\n",
    "    TeamName = URIRef(\"http://www.semanticweb.org/caohainam/ontologies/2022/9/football-ontology#TeamName\")\n",
    "    Tournament = URIRef(\"http://www.semanticweb.org/caohainam/ontologies/2022/9/football-ontology#Tournament\")\n",
    "    League = URIRef(\"http://www.semanticweb.org/caohainam/ontologies/2022/9/football-ontology#League\")\n",
    "    Pyramid = URIRef(\"http://www.semanticweb.org/caohainam/ontologies/2022/9/football-ontology#Pyramid\")\n",
    "\n",
    "\n",
    "class ObjectProperty:\n",
    "    playFor = URIRef(\"http://www.semanticweb.org/caohainam/ontologies/2022/9/football-ontology#playFor\")\n",
    "    isTeammateOf = URIRef(\"http://www.semanticweb.org/caohainam/ontologies/2022/9/football-ontology#isTeammateOf\")\n",
    "    completeIn = URIRef(\"http://www.semanticweb.org/caohainam/ontologies/2022/9/football-ontology#completeIn\")\n",
    "    manageAt = URIRef(\"http://www.semanticweb.org/caohainam/ontologies/2022/9/football-ontology#manageAt\")\n",
    "    isHostOf = URIRef(\"http://www.semanticweb.org/caohainam/ontologies/2022/9/football-ontology#isHostOf\")\n",
    "\n",
    "\n",
    "class DataProperty:\n",
    "    teamNameRegion = URIRef('http://www.semanticweb.org/caohainam/ontologies/2022/9/football-ontology#teamNameRegion')\n",
    "    tournameRegionName = URIRef('http://www.semanticweb.org/caohainam/ontologies/2022/9/football-ontology#teamNameRegion')\n",
    "    nationality = URIRef('http://www.semanticweb.org/caohainam/ontologies/2022/9/football-ontology#nationality')\n",
    "    position = URIRef('http://www.semanticweb.org/caohainam/ontologies/2022/9/football-ontology#position')\n",
    "    location = URIRef('http://www.semanticweb.org/caohainam/ontologies/2022/9/football-ontology#location')\n",
    "    capacity = URIRef('http://www.semanticweb.org/caohainam/ontologies/2022/9/football-ontology#capacity')\n",
    "    age = URIRef('http://www.semanticweb.org/caohainam/ontologies/2022/9/football-ontology#age')\n",
    "    weight = URIRef('http://www.semanticweb.org/caohainam/ontologies/2022/9/football-ontology#weight')\n",
    "    height = URIRef('http://www.semanticweb.org/caohainam/ontologies/2022/9/football-ontology#height')"
   ]
  },
  {
   "cell_type": "code",
   "execution_count": 299,
   "metadata": {},
   "outputs": [],
   "source": [
    "with open('teamname_normalization.json', 'r', encoding='utf8') as f:\n",
    "    norm_teamname = json.load(f)"
   ]
  },
  {
   "cell_type": "code",
   "execution_count": 301,
   "metadata": {},
   "outputs": [
    {
     "data": {
      "text/plain": [
       "'Manchester United'"
      ]
     },
     "execution_count": 301,
     "metadata": {},
     "output_type": "execute_result"
    }
   ],
   "source": [
    "norm_teamname['Man Utd']"
   ]
  },
  {
   "cell_type": "code",
   "execution_count": 318,
   "metadata": {},
   "outputs": [],
   "source": [
    "teamnames = []"
   ]
  },
  {
   "cell_type": "code",
   "execution_count": 302,
   "metadata": {},
   "outputs": [],
   "source": [
    "class Tournament:\n",
    "    def __init__(self, sample):\n",
    "        self.name = sample['tourname']\n",
    "        self.region_name = sample['tour_name_region']\n",
    "    \n",
    "    def add_tourname(self, g):\n",
    "        x = URIRef(prefix + '_'.join(self.name.split()))\n",
    "        g.add((x, RDF.type, Class.Tournament))\n",
    "        g.add((x, RDF.type, OWL.NamedIndividual))\n",
    "\n",
    "    def add_tournameRegionName(self, g):\n",
    "        x = URIRef(prefix + '_'.join(self.name.split()))\n",
    "        g.add((x, DataProperty.tournameRegionName, Literal(self.region_name, datatype=XSD.string)))"
   ]
  },
  {
   "cell_type": "code",
   "execution_count": 303,
   "metadata": {},
   "outputs": [],
   "source": [
    "class TeamName:\n",
    "    def __init__(self, sample):\n",
    "        # print(sample['team_name'])\n",
    "        if sample['team_name'] in norm_teamname:\n",
    "            self.name = norm_teamname[sample['team_name']]\n",
    "        else:\n",
    "            self.name = sample['team_name']\n",
    "        teamnames.append(self.name)\n",
    "        # self.tournament = sample['tourname']\n",
    "        self.teamNameRegion = sample['team_name_region']\n",
    "    \n",
    "    def add_teamname(self, g):\n",
    "        x = URIRef(prefix + '_'.join(self.name.split()))\n",
    "        g.add((x, RDF.type, Class.TeamName))\n",
    "        g.add((x, RDF.type, OWL.NamedIndividual))\n",
    "\n",
    "    def add_teamNameRegion(self, g):\n",
    "        x = URIRef(prefix + '_'.join(self.name.split()))\n",
    "        g.add((x, DataProperty.teamNameRegion, Literal(self.teamNameRegion, datatype=XSD.string)))"
   ]
  },
  {
   "cell_type": "code",
   "execution_count": 304,
   "metadata": {},
   "outputs": [],
   "source": [
    "class Stadium:\n",
    "    def __init__(self, sample):\n",
    "        self.name = sample['Stadium'] \n",
    "        \n",
    "        if sample['Team'] in norm_teamname:\n",
    "            # print(sample['Team'])\n",
    "            self.team = norm_teamname[sample['Team']]\n",
    "        else:\n",
    "            self.team = sample['Team']\n",
    "        teamnames.append(self.team)\n",
    "        self.location = sample['Location'] \n",
    "        self.capacity = sample['Capacity']\n",
    "    \n",
    "    def add_stadium(self, g):\n",
    "        x = URIRef(prefix + '_'.join(self.name.split()))\n",
    "        g.add((x, RDF.type, Class.Stadium))\n",
    "        g.add((x, RDF.type, OWL.NamedIndividual))\n",
    "\n",
    "    def add_location(self, g):\n",
    "        x = URIRef(prefix + '_'.join(self.name.split()))\n",
    "        g.add((x, DataProperty.location, Literal(self.location, datatype=XSD.string)))\n",
    "    \n",
    "    def add_capacity(self, g):\n",
    "        x = URIRef(prefix + '_'.join(self.name.split()))\n",
    "        g.add((x, DataProperty.capacity, Literal(self.capacity, datatype=XSD.int)))"
   ]
  },
  {
   "cell_type": "code",
   "execution_count": 305,
   "metadata": {},
   "outputs": [],
   "source": [
    "class Manager:\n",
    "    def __init__(self, sample):\n",
    "        self.name = sample['Manager']\n",
    "        if sample['Team'] in norm_teamname:\n",
    "            self.team = norm_teamname[sample['Team']]\n",
    "        else:\n",
    "            self.team = sample['Team']\n",
    "        teamnames.append(self.team)\n",
    "        # self.nationality = nationality\n",
    "\n",
    "    def add_name(self, g):\n",
    "        x = URIRef(prefix + '_'.join(self.name.split()))\n",
    "        g.add((x, RDF.type, Class.Manager))\n",
    "        g.add((x, RDF.type, OWL.NamedIndividual))\n",
    "\n",
    "\n",
    "    # def add_nationality(self, g):\n",
    "    #     x = URIRef(prefix + '_'.join(self.name.split()))\n",
    "    #     g.add((x, DataProperty.nationality, Literal(self.nationality, datatype=XSD.string)))"
   ]
  },
  {
   "cell_type": "code",
   "execution_count": 306,
   "metadata": {},
   "outputs": [],
   "source": [
    "class Player:\n",
    "    def __init__(self, sample):\n",
    "        self.name = sample['player_name']\n",
    "        # self.nationality = nationality\n",
    "        self.age = sample['age']\n",
    "        self.height = sample['height'] \n",
    "        self.weight = sample['weight']\n",
    "        self.position = sample['position']\n",
    "        \n",
    "\n",
    "    def add_name(self, g):\n",
    "        x = URIRef(prefix + '_'.join(self.name.split()))\n",
    "        g.add((x, RDF.type, Class.Player))\n",
    "        g.add((x, RDF.type, OWL.NamedIndividual))\n",
    "\n",
    "\n",
    "    def add_position(self, g):\n",
    "        x = URIRef(prefix + '_'.join(self.name.split()))\n",
    "        g.add((x, DataProperty.position, Literal(self.position, datatype=XSD.string)))\n",
    "\n",
    "\n",
    "    # def add_nationality(self, g):\n",
    "    #     x = URIRef(prefix + '_'.join(self.name.split()))\n",
    "    #     g.add((x, DataProperty.nationality, Literal(self.nationality, datatype=XSD.string)))\n",
    "\n",
    "\n",
    "    def add_age(self, g):\n",
    "        x = URIRef(prefix + '_'.join(self.name.split()))\n",
    "        g.add((x, DataProperty.age, Literal(self.age, datatype=XSD.int)))\n",
    "    \n",
    "\n",
    "    def add_height(self, g):\n",
    "        x = URIRef(prefix + '_'.join(self.name.split()))\n",
    "        g.add((x, DataProperty.height, Literal(self.height, datatype=XSD.int)))\n",
    "\n",
    "\n",
    "    def add_weight(self, g):\n",
    "        x = URIRef(prefix + '_'.join(self.name.split()))\n",
    "        g.add((x, DataProperty.weight, Literal(self.weight, datatype=XSD.int)))"
   ]
  },
  {
   "cell_type": "code",
   "execution_count": 361,
   "metadata": {},
   "outputs": [],
   "source": [
    "def complete_in(g, team_name, tournament):\n",
    "    x = URIRef(prefix + '_'.join(team_name.split()))\n",
    "    y = URIRef(prefix + '_'.join(tournament.split()))\n",
    "    g.add((x, ObjectProperty.completeIn, y))\n",
    "\n",
    "\n",
    "def is_host_of(g, stadium, team_name):\n",
    "    x = URIRef(prefix + '_'.join(stadium.split()))\n",
    "    y = URIRef(prefix + '_'.join(team_name.split()))\n",
    "    g.add((x, ObjectProperty.isHostOf, y))\n",
    "\n",
    "\n",
    "def manage_at(g, manager, team_name):\n",
    "    x = URIRef(prefix + '_'.join(manager.split()))\n",
    "    y = URIRef(prefix + '_'.join(team_name.split()))\n",
    "    g.add((x, ObjectProperty.manageAt, y))\n",
    "\n",
    "\n",
    "def play_for(g, player_name, team_name):\n",
    "    x = URIRef(prefix + '_'.join(player_name.split()))\n",
    "    # for i in team_names:\n",
    "    y = URIRef(prefix + '_'.join(team_name.split()))\n",
    "    g.add((x, ObjectProperty.playFor, y))\n",
    "\n",
    "\n",
    "# def is_teammate_of(g, ):\n",
    "#     x = URIRef(prefix + '_'.join(self.name.split()))\n",
    "#     for i in self.teammates:\n",
    "#         y = URIRef(prefix + '_'.join(i))\n",
    "#         g.add((x, ObjectProperty.isTeammateOf, y))"
   ]
  },
  {
   "cell_type": "code",
   "execution_count": 359,
   "metadata": {},
   "outputs": [],
   "source": [
    "# for s, p, o in g:\n",
    "#     print((s, p, o))"
   ]
  },
  {
   "cell_type": "code",
   "execution_count": 309,
   "metadata": {},
   "outputs": [],
   "source": [
    "# print(g.serialize(format=\"turtle\"))"
   ]
  },
  {
   "cell_type": "code",
   "execution_count": 310,
   "metadata": {},
   "outputs": [],
   "source": [
    "# print(g.serialize(format=\"xml\"))"
   ]
  },
  {
   "cell_type": "markdown",
   "metadata": {},
   "source": [
    "### Build CSV file"
   ]
  },
  {
   "cell_type": "code",
   "execution_count": 256,
   "metadata": {},
   "outputs": [],
   "source": [
    "import itertools\n",
    "import json\n",
    "import pandas as pd"
   ]
  },
  {
   "cell_type": "code",
   "execution_count": 160,
   "metadata": {},
   "outputs": [],
   "source": [
    "manager2team_name = dict()\n",
    "player2teammtes = dict()\n",
    "player2teamnames = dict()\n",
    "teamname2tourname = dict()\n",
    "stadium2teamname = dict()\n",
    "player2info = dict()\n",
    "teamname2teamnameRegion = dict()"
   ]
  },
  {
   "cell_type": "code",
   "execution_count": 161,
   "metadata": {},
   "outputs": [],
   "source": [
    "data = []\n",
    "player_keys = ['name', 'positionText', 'height', 'weight', 'age']\n",
    "player_info = []\n",
    "\n",
    "teamname_keys = ['teamName', 'name', 'tournamentName', 'teamRegionName', 'tournamentRegionName']\n",
    "teamname_info = []"
   ]
  },
  {
   "cell_type": "code",
   "execution_count": 162,
   "metadata": {},
   "outputs": [],
   "source": [
    "directory = 'football_player_info'\n",
    "for filename in os.listdir(directory):\n",
    "    f = os.path.join(directory, filename)\n",
    "    # if os.path.isfile(f):\n",
    "        # print(f)\n",
    "    with open(f, 'r', encoding='utf8') as f:\n",
    "        data = json.load(f)['playerTableStats']\n",
    "    \n",
    "    for i in data:\n",
    "        \n",
    "        player_info.append([i[p] for p in player_keys])\n",
    "        teamname_info.append([i[t] for t in teamname_keys])\n",
    "\n",
    "player_info.sort()\n",
    "player_info = list(player_info for player_info,_ in itertools.groupby(player_info))\n",
    "\n",
    "teamname_info.sort()\n",
    "teamname_info = list(teamname_info for teamname_info,_ in itertools.groupby(teamname_info))"
   ]
  },
  {
   "cell_type": "code",
   "execution_count": 163,
   "metadata": {},
   "outputs": [
    {
     "data": {
      "text/plain": [
       "[['Aleksandar Mitrovic', 'Forward', 189, 90, 28]]"
      ]
     },
     "execution_count": 163,
     "metadata": {},
     "output_type": "execute_result"
    }
   ],
   "source": [
    "player_info[:1]"
   ]
  },
  {
   "cell_type": "code",
   "execution_count": 158,
   "metadata": {},
   "outputs": [
    {
     "data": {
      "text/plain": [
       "[['Ajax', 'Antony', 'Dutch Super Cup', 'Netherlands', 'Netherlands']]"
      ]
     },
     "execution_count": 158,
     "metadata": {},
     "output_type": "execute_result"
    }
   ],
   "source": [
    "teamname_info[:1]"
   ]
  },
  {
   "cell_type": "code",
   "execution_count": 159,
   "metadata": {},
   "outputs": [],
   "source": [
    "player_df = pd.DataFrame(player_info, columns=['player_name', 'position', 'height', 'weight', 'age'])\n",
    "player_df.to_csv('player_info.csv', index=False)"
   ]
  },
  {
   "cell_type": "code",
   "execution_count": 75,
   "metadata": {},
   "outputs": [],
   "source": [
    "teamname_df = pd.DataFrame(teamname_info, columns=['team_name', 'player_name', 'tourname', 'team_name_region', 'tour_name_region'])\n",
    "teamname_df.to_csv('teamname_info.csv', index=False)"
   ]
  },
  {
   "cell_type": "code",
   "execution_count": null,
   "metadata": {},
   "outputs": [],
   "source": []
  },
  {
   "cell_type": "code",
   "execution_count": null,
   "metadata": {},
   "outputs": [],
   "source": []
  },
  {
   "cell_type": "markdown",
   "metadata": {},
   "source": [
    "### Add to ontology"
   ]
  },
  {
   "cell_type": "code",
   "execution_count": 362,
   "metadata": {},
   "outputs": [
    {
     "data": {
      "text/plain": [
       "<Graph identifier=Ne12359145aad4186b1770b7fa30881ae (<class 'rdflib.graph.Graph'>)>"
      ]
     },
     "execution_count": 362,
     "metadata": {},
     "output_type": "execute_result"
    }
   ],
   "source": [
    "g = Graph()\n",
    "g.parse(\"/home/caohainam/SemanticWeb/football-ontology.owl\")\n",
    "# print(g.serialize(format=\"turtle\"))"
   ]
  },
  {
   "cell_type": "code",
   "execution_count": null,
   "metadata": {},
   "outputs": [],
   "source": []
  },
  {
   "cell_type": "markdown",
   "metadata": {},
   "source": [
    "#### Data Property"
   ]
  },
  {
   "cell_type": "markdown",
   "metadata": {},
   "source": [
    "##### Add player info"
   ]
  },
  {
   "cell_type": "code",
   "execution_count": 363,
   "metadata": {},
   "outputs": [],
   "source": [
    "player_df = pd.read_csv('player_info.csv')\n",
    "# player_df.head()"
   ]
  },
  {
   "cell_type": "code",
   "execution_count": 364,
   "metadata": {},
   "outputs": [],
   "source": [
    "team_name2players, player2team_name = dict(), dict()\n",
    "for index, row in player_df.iterrows():\n",
    "    sample = row.to_dict()\n",
    "    # try:\n",
    "    x = Player(sample)\n",
    "    x.add_name(g)\n",
    "    x.add_position(g)\n",
    "    x.add_age(g)\n",
    "    x.add_weight(g)\n",
    "    x.add_height(g)\n",
    "    # except:\n",
    "    #     print('error')\n",
    "\n",
    "    # if index == 5:\n",
    "    #     break"
   ]
  },
  {
   "cell_type": "code",
   "execution_count": 365,
   "metadata": {},
   "outputs": [],
   "source": [
    "# print(g.serialize(format=\"xml\"))"
   ]
  },
  {
   "cell_type": "markdown",
   "metadata": {},
   "source": [
    "##### Add stadium"
   ]
  },
  {
   "cell_type": "code",
   "execution_count": 366,
   "metadata": {},
   "outputs": [],
   "source": [
    "stadium_df = pd.read_csv('stadium_info.csv')\n",
    "# stadium_df"
   ]
  },
  {
   "cell_type": "code",
   "execution_count": 367,
   "metadata": {},
   "outputs": [],
   "source": [
    "team_name2players, player2team_name = dict(), dict()\n",
    "for index, row in stadium_df.iterrows():\n",
    "    sample = row.to_dict()\n",
    "    # try:\n",
    "    x = Stadium(sample)\n",
    "    x.add_stadium(g)\n",
    "    x.add_location(g)\n",
    "    x.add_capacity(g)\n",
    "    # except:\n",
    "    #     print('error')\n",
    "\n",
    "    # if index == 5:\n",
    "    #     break"
   ]
  },
  {
   "cell_type": "markdown",
   "metadata": {},
   "source": [
    "##### Add teamname"
   ]
  },
  {
   "cell_type": "code",
   "execution_count": 368,
   "metadata": {},
   "outputs": [],
   "source": [
    "teamname_df = pd.read_csv('teamname_info.csv')\n",
    "for index, row in teamname_df.iterrows():\n",
    "    sample = row.to_dict()\n",
    "    # try:\n",
    "    x = TeamName(sample)\n",
    "    x.add_teamname(g)\n",
    "    x.add_teamNameRegion(g)\n",
    "        # x.add_location(g)\n",
    "        # x.add_capacity(g)\n",
    "    # except:\n",
    "    #     print('error')\n",
    "\n",
    "    # if index == 5:\n",
    "    #     break"
   ]
  },
  {
   "cell_type": "markdown",
   "metadata": {},
   "source": [
    "##### Add tour name"
   ]
  },
  {
   "cell_type": "code",
   "execution_count": 369,
   "metadata": {},
   "outputs": [],
   "source": [
    "teamname_df = pd.read_csv('teamname_info.csv')\n",
    "for index, row in teamname_df.iterrows():\n",
    "    sample = row.to_dict()\n",
    "    # try:\n",
    "    x = Tournament(sample)\n",
    "    x.add_tourname(g)\n",
    "    x.add_tournameRegionName(g)\n",
    "    # except:\n",
    "    #     print('error')\n",
    "\n",
    "\n",
    "    # if index == 5:\n",
    "    #     break"
   ]
  },
  {
   "cell_type": "markdown",
   "metadata": {},
   "source": [
    "##### Add manager"
   ]
  },
  {
   "cell_type": "code",
   "execution_count": 370,
   "metadata": {},
   "outputs": [],
   "source": [
    "manager_df = pd.read_csv('manager_info.csv')\n",
    "for index, row in manager_df.iterrows():\n",
    "    sample = row.to_dict()\n",
    "    # try:\n",
    "    x = Manager(sample)\n",
    "    x.add_name(g)\n",
    "    # except:\n",
    "    #     print('error')\n",
    "\n",
    "    # if index == 5:\n",
    "    #     break"
   ]
  },
  {
   "cell_type": "code",
   "execution_count": 371,
   "metadata": {},
   "outputs": [],
   "source": [
    "# set(teamnames)"
   ]
  },
  {
   "cell_type": "markdown",
   "metadata": {},
   "source": [
    "#### Object Property"
   ]
  },
  {
   "cell_type": "markdown",
   "metadata": {},
   "source": [
    "##### Add completeIn relation"
   ]
  },
  {
   "cell_type": "code",
   "execution_count": 372,
   "metadata": {},
   "outputs": [],
   "source": [
    "teamname_df = pd.read_csv('teamname_info.csv')\n",
    "for index, row in teamname_df.iterrows():\n",
    "    sample = row.to_dict()\n",
    "    if sample['team_name'] in norm_teamname:\n",
    "        sample['team_name'] = norm_teamname[sample['team_name']]\n",
    "    team_name, tournament = sample['team_name'], sample['tourname']\n",
    "    try:\n",
    "        # x = URIRef(prefix + '_'.join(team_name.split()))\n",
    "        # y = URIRef(prefix + '_'.join(tournament.split()))\n",
    "        # g.add((x, ObjectProperty.completeIn, y))\n",
    "\n",
    "        complete_in(g, team_name, tournament)\n",
    "    except:\n",
    "        print('error')\n",
    "\n",
    "    # if index == 5:\n",
    "    #     break"
   ]
  },
  {
   "cell_type": "markdown",
   "metadata": {},
   "source": [
    "##### isHostOf"
   ]
  },
  {
   "cell_type": "code",
   "execution_count": 373,
   "metadata": {},
   "outputs": [],
   "source": [
    "teamname_df = pd.read_csv('stadium_info.csv')\n",
    "for index, row in teamname_df.iterrows():\n",
    "    sample = row.to_dict()\n",
    "    stadium, team = sample['Stadium'], norm_teamname[sample['Team']]\n",
    "    try:\n",
    "        isHostOf(g, stadium, team)\n",
    "    except:\n",
    "        print('error')\n",
    "    # if index == 5:\n",
    "    #     break"
   ]
  },
  {
   "cell_type": "markdown",
   "metadata": {},
   "source": [
    "##### managerAt"
   ]
  },
  {
   "cell_type": "code",
   "execution_count": 374,
   "metadata": {},
   "outputs": [],
   "source": [
    "df = pd.read_csv('manager_info.csv')\n",
    "for index, row in df.iterrows():\n",
    "    sample = row.to_dict()\n",
    "    manager, team = sample['Manager'], norm_teamname[sample['Team']]\n",
    "    try:\n",
    "        # print(team_name)\n",
    "        # print(tournament)\n",
    "        manageAt(g, manager, team)\n",
    "    except:\n",
    "        print('error')\n",
    "    # if index == 5:\n",
    "    #     break"
   ]
  },
  {
   "cell_type": "markdown",
   "metadata": {},
   "source": [
    "##### playFor"
   ]
  },
  {
   "cell_type": "code",
   "execution_count": 375,
   "metadata": {},
   "outputs": [],
   "source": [
    "df = pd.read_csv('teamname_info.csv')\n",
    "df = df[['team_name', 'player_name']]\n",
    "df = df.drop_duplicates()\n",
    "\n",
    "for index, row in df.iterrows():\n",
    "    sample = row.to_dict()\n",
    "    player, team = sample['player_name'], norm_teamname[sample['team_name']] if sample['team_name'] in norm_teamname else sample['team_name']\n",
    "    play_for(g, player, team)    "
   ]
  },
  {
   "cell_type": "code",
   "execution_count": null,
   "metadata": {},
   "outputs": [],
   "source": []
  },
  {
   "cell_type": "code",
   "execution_count": null,
   "metadata": {},
   "outputs": [],
   "source": []
  },
  {
   "cell_type": "code",
   "execution_count": 140,
   "metadata": {},
   "outputs": [],
   "source": [
    "# g.serialize(format=\"xml\")"
   ]
  },
  {
   "cell_type": "code",
   "execution_count": 376,
   "metadata": {},
   "outputs": [
    {
     "data": {
      "text/plain": [
       "<Graph identifier=Ne12359145aad4186b1770b7fa30881ae (<class 'rdflib.graph.Graph'>)>"
      ]
     },
     "execution_count": 376,
     "metadata": {},
     "output_type": "execute_result"
    }
   ],
   "source": [
    "g.serialize(destination='output.owl', format=\"xml\") "
   ]
  }
 ],
 "metadata": {
  "kernelspec": {
   "display_name": "Python 3.8.5 ('base')",
   "language": "python",
   "name": "python3"
  },
  "language_info": {
   "codemirror_mode": {
    "name": "ipython",
    "version": 3
   },
   "file_extension": ".py",
   "mimetype": "text/x-python",
   "name": "python",
   "nbconvert_exporter": "python",
   "pygments_lexer": "ipython3",
   "version": "3.8.5"
  },
  "orig_nbformat": 4,
  "vscode": {
   "interpreter": {
    "hash": "430f9c1082f40c2660bee63ac7e34d759759f4d8477075556f305ad17a68a1b1"
   }
  }
 },
 "nbformat": 4,
 "nbformat_minor": 2
}
