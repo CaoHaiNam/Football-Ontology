{
 "cells": [
  {
   "cell_type": "code",
   "execution_count": 2,
   "metadata": {},
   "outputs": [],
   "source": [
    "from rdflib import Graph, Literal, RDF, URIRef, Namespace\n",
    "# rdflib knows about quite a few popular namespaces, like W3C ontologies, schema.org etc.\n",
    "from rdflib.namespace import FOAF , XSD, OWL"
   ]
  },
  {
   "cell_type": "code",
   "execution_count": 5,
   "metadata": {},
   "outputs": [],
   "source": [
    "dbpedia = Namespace(\"http://dbpedia.org/ontology/\")"
   ]
  },
  {
   "cell_type": "code",
   "execution_count": 6,
   "metadata": {},
   "outputs": [],
   "source": [
    "# dbpedia.SoccerPlayer"
   ]
  },
  {
   "cell_type": "markdown",
   "metadata": {},
   "source": [
    "* XSD.int\n",
    "* OWL.NamedIndividual\n",
    "* RDF.type"
   ]
  },
  {
   "cell_type": "code",
   "execution_count": 148,
   "metadata": {},
   "outputs": [],
   "source": [
    "prefix = \"http://www.semanticweb.org/caohainam/ontologies/2022/9/football-ontology#\"\n",
    "\n",
    "class Class:\n",
    "    Person = URIRef(\"http://www.semanticweb.org/caohainam/ontologies/2022/9/football-ontology#Person\")\n",
    "    Manager = URIRef(\"http://www.semanticweb.org/caohainam/ontologies/2022/9/football-ontology#Manager\")\n",
    "    # Player = URIRef(\"http://www.semanticweb.org/caohainam/ontologies/2022/9/football-ontology#Player\")\n",
    "    Player = dbpedia.SoccerPlayer\n",
    "    Stadium = URIRef(\"http://www.semanticweb.org/caohainam/ontologies/2022/9/football-ontology#Stadium\")\n",
    "    TeamName = URIRef(\"http://www.semanticweb.org/caohainam/ontologies/2022/9/football-ontology#TeamName\")\n",
    "    Tournament = URIRef(\"http://www.semanticweb.org/caohainam/ontologies/2022/9/football-ontology#Tournament\")\n",
    "    League = URIRef(\"http://www.semanticweb.org/caohainam/ontologies/2022/9/football-ontology#League\")\n",
    "    Pyramid = URIRef(\"http://www.semanticweb.org/caohainam/ontologies/2022/9/football-ontology#Pyramid\")\n",
    "\n",
    "\n",
    "class ObjectProperty:\n",
    "    playFor = URIRef(\"http://www.semanticweb.org/caohainam/ontologies/2022/9/football-ontology#playFor\")\n",
    "    isTeammateOf = URIRef(\"http://www.semanticweb.org/caohainam/ontologies/2022/9/football-ontology#isTeammateOf\")\n",
    "    completeIn = URIRef(\"http://www.semanticweb.org/caohainam/ontologies/2022/9/football-ontology#completeIn\")\n",
    "    manageAt = URIRef(\"http://www.semanticweb.org/caohainam/ontologies/2022/9/football-ontology#manageAt\")\n",
    "    isHostOf = URIRef(\"http://www.semanticweb.org/caohainam/ontologies/2022/9/football-ontology#isHostOf\")\n",
    "\n",
    "\n",
    "class DataProperty:\n",
    "    teamNameRegion = URIRef('http://www.semanticweb.org/caohainam/ontologies/2022/9/football-ontology#teamNameRegion')\n",
    "    tournameRegionName = URIRef('http://www.semanticweb.org/caohainam/ontologies/2022/9/football-ontology#teamNameRegion')\n",
    "    nationality = URIRef('http://www.semanticweb.org/caohainam/ontologies/2022/9/football-ontology#nationality')\n",
    "    position = URIRef('http://www.semanticweb.org/caohainam/ontologies/2022/9/football-ontology#position')\n",
    "    location = URIRef('http://www.semanticweb.org/caohainam/ontologies/2022/9/football-ontology#location')\n",
    "    capacity = URIRef('http://www.semanticweb.org/caohainam/ontologies/2022/9/football-ontology#capacity')\n",
    "    age = URIRef('http://www.semanticweb.org/caohainam/ontologies/2022/9/football-ontology#age')\n",
    "    weight = URIRef('http://www.semanticweb.org/caohainam/ontologies/2022/9/football-ontology#weight')\n",
    "    height = URIRef('http://www.semanticweb.org/caohainam/ontologies/2022/9/football-ontology#height')"
   ]
  },
  {
   "cell_type": "code",
   "execution_count": 299,
   "metadata": {},
   "outputs": [],
   "source": [
    "with open('teamname_normalization.json', 'r', encoding='utf8') as f:\n",
    "    norm_teamname = json.load(f)"
   ]
  },
  {
   "cell_type": "code",
   "execution_count": 301,
   "metadata": {},
   "outputs": [
    {
     "data": {
      "text/plain": [
       "'Manchester United'"
      ]
     },
     "execution_count": 301,
     "metadata": {},
     "output_type": "execute_result"
    }
   ],
   "source": [
    "norm_teamname['Man Utd']"
   ]
  },
  {
   "cell_type": "code",
   "execution_count": 318,
   "metadata": {},
   "outputs": [],
   "source": [
    "teamnames = []"
   ]
  },
  {
   "cell_type": "code",
   "execution_count": 302,
   "metadata": {},
   "outputs": [],
   "source": [
    "class Tournament:\n",
    "    def __init__(self, sample):\n",
    "        self.name = sample['tourname']\n",
    "        self.region_name = sample['tour_name_region']\n",
    "    \n",
    "    def add_tourname(self, g):\n",
    "        x = URIRef(prefix + '_'.join(self.name.split()))\n",
    "        g.add((x, RDF.type, Class.Tournament))\n",
    "        g.add((x, RDF.type, OWL.NamedIndividual))\n",
    "\n",
    "    def add_tournameRegionName(self, g):\n",
    "        x = URIRef(prefix + '_'.join(self.name.split()))\n",
    "        g.add((x, DataProperty.tournameRegionName, Literal(self.region_name, datatype=XSD.string)))"
   ]
  },
  {
   "cell_type": "code",
   "execution_count": 303,
   "metadata": {},
   "outputs": [],
   "source": [
    "class TeamName:\n",
    "    def __init__(self, sample):\n",
    "        # print(sample['team_name'])\n",
    "        if sample['team_name'] in norm_teamname:\n",
    "            self.name = norm_teamname[sample['team_name']]\n",
    "        else:\n",
    "            self.name = sample['team_name']\n",
    "        teamnames.append(self.name)\n",
    "        # self.tournament = sample['tourname']\n",
    "        self.teamNameRegion = sample['team_name_region']\n",
    "    \n",
    "    def add_teamname(self, g):\n",
    "        x = URIRef(prefix + '_'.join(self.name.split()))\n",
    "        g.add((x, RDF.type, Class.TeamName))\n",
    "        g.add((x, RDF.type, OWL.NamedIndividual))\n",
    "\n",
    "    def add_teamNameRegion(self, g):\n",
    "        x = URIRef(prefix + '_'.join(self.name.split()))\n",
    "        g.add((x, DataProperty.teamNameRegion, Literal(self.teamNameRegion, datatype=XSD.string)))"
   ]
  },
  {
   "cell_type": "code",
   "execution_count": 304,
   "metadata": {},
   "outputs": [],
   "source": [
    "class Stadium:\n",
    "    def __init__(self, sample):\n",
    "        self.name = sample['Stadium'] \n",
    "        \n",
    "        if sample['Team'] in norm_teamname:\n",
    "            # print(sample['Team'])\n",
    "            self.team = norm_teamname[sample['Team']]\n",
    "        else:\n",
    "            self.team = sample['Team']\n",
    "        teamnames.append(self.team)\n",
    "        self.location = sample['Location'] \n",
    "        self.capacity = sample['Capacity']\n",
    "    \n",
    "    def add_stadium(self, g):\n",
    "        x = URIRef(prefix + '_'.join(self.name.split()))\n",
    "        g.add((x, RDF.type, Class.Stadium))\n",
    "        g.add((x, RDF.type, OWL.NamedIndividual))\n",
    "\n",
    "    def add_location(self, g):\n",
    "        x = URIRef(prefix + '_'.join(self.name.split()))\n",
    "        g.add((x, DataProperty.location, Literal(self.location, datatype=XSD.string)))\n",
    "    \n",
    "    def add_capacity(self, g):\n",
    "        x = URIRef(prefix + '_'.join(self.name.split()))\n",
    "        g.add((x, DataProperty.capacity, Literal(self.capacity, datatype=XSD.int)))"
   ]
  },
  {
   "cell_type": "code",
   "execution_count": 305,
   "metadata": {},
   "outputs": [],
   "source": [
    "class Manager:\n",
    "    def __init__(self, sample):\n",
    "        self.name = sample['Manager']\n",
    "        if sample['Team'] in norm_teamname:\n",
    "            self.team = norm_teamname[sample['Team']]\n",
    "        else:\n",
    "            self.team = sample['Team']\n",
    "        teamnames.append(self.team)\n",
    "        # self.nationality = nationality\n",
    "\n",
    "    def add_name(self, g):\n",
    "        x = URIRef(prefix + '_'.join(self.name.split()))\n",
    "        g.add((x, RDF.type, Class.Manager))\n",
    "        g.add((x, RDF.type, OWL.NamedIndividual))\n",
    "\n",
    "\n",
    "    # def add_nationality(self, g):\n",
    "    #     x = URIRef(prefix + '_'.join(self.name.split()))\n",
    "    #     g.add((x, DataProperty.nationality, Literal(self.nationality, datatype=XSD.string)))"
   ]
  },
  {
   "cell_type": "code",
   "execution_count": 306,
   "metadata": {},
   "outputs": [],
   "source": [
    "class Player:\n",
    "    def __init__(self, sample):\n",
    "        self.name = sample['player_name']\n",
    "        # self.nationality = nationality\n",
    "        self.age = sample['age']\n",
    "        self.height = sample['height'] \n",
    "        self.weight = sample['weight']\n",
    "        self.position = sample['position']\n",
    "        \n",
    "\n",
    "    def add_name(self, g):\n",
    "        x = URIRef(prefix + '_'.join(self.name.split()))\n",
    "        g.add((x, RDF.type, Class.Player))\n",
    "        g.add((x, RDF.type, OWL.NamedIndividual))\n",
    "\n",
    "\n",
    "    def add_position(self, g):\n",
    "        x = URIRef(prefix + '_'.join(self.name.split()))\n",
    "        g.add((x, DataProperty.position, Literal(self.position, datatype=XSD.string)))\n",
    "\n",
    "\n",
    "    # def add_nationality(self, g):\n",
    "    #     x = URIRef(prefix + '_'.join(self.name.split()))\n",
    "    #     g.add((x, DataProperty.nationality, Literal(self.nationality, datatype=XSD.string)))\n",
    "\n",
    "\n",
    "    def add_age(self, g):\n",
    "        x = URIRef(prefix + '_'.join(self.name.split()))\n",
    "        g.add((x, DataProperty.age, Literal(self.age, datatype=XSD.int)))\n",
    "    \n",
    "\n",
    "    def add_height(self, g):\n",
    "        x = URIRef(prefix + '_'.join(self.name.split()))\n",
    "        g.add((x, DataProperty.height, Literal(self.height, datatype=XSD.int)))\n",
    "\n",
    "\n",
    "    def add_weight(self, g):\n",
    "        x = URIRef(prefix + '_'.join(self.name.split()))\n",
    "        g.add((x, DataProperty.weight, Literal(self.weight, datatype=XSD.int)))"
   ]
  },
  {
   "cell_type": "code",
   "execution_count": 361,
   "metadata": {},
   "outputs": [],
   "source": [
    "def complete_in(g, team_name, tournament):\n",
    "    x = URIRef(prefix + '_'.join(team_name.split()))\n",
    "    y = URIRef(prefix + '_'.join(tournament.split()))\n",
    "    g.add((x, ObjectProperty.completeIn, y))\n",
    "\n",
    "\n",
    "def is_host_of(g, stadium, team_name):\n",
    "    x = URIRef(prefix + '_'.join(stadium.split()))\n",
    "    y = URIRef(prefix + '_'.join(team_name.split()))\n",
    "    g.add((x, ObjectProperty.isHostOf, y))\n",
    "\n",
    "\n",
    "def manage_at(g, manager, team_name):\n",
    "    x = URIRef(prefix + '_'.join(manager.split()))\n",
    "    y = URIRef(prefix + '_'.join(team_name.split()))\n",
    "    g.add((x, ObjectProperty.manageAt, y))\n",
    "\n",
    "\n",
    "def play_for(g, player_name, team_name):\n",
    "    x = URIRef(prefix + '_'.join(player_name.split()))\n",
    "    # for i in team_names:\n",
    "    y = URIRef(prefix + '_'.join(team_name.split()))\n",
    "    g.add((x, ObjectProperty.playFor, y))\n",
    "\n",
    "\n",
    "# def is_teammate_of(g, ):\n",
    "#     x = URIRef(prefix + '_'.join(self.name.split()))\n",
    "#     for i in self.teammates:\n",
    "#         y = URIRef(prefix + '_'.join(i))\n",
    "#         g.add((x, ObjectProperty.isTeammateOf, y))"
   ]
  },
  {
   "cell_type": "code",
   "execution_count": 359,
   "metadata": {},
   "outputs": [],
   "source": [
    "# for s, p, o in g:\n",
    "#     print((s, p, o))"
   ]
  },
  {
   "cell_type": "code",
   "execution_count": 309,
   "metadata": {},
   "outputs": [],
   "source": [
    "# print(g.serialize(format=\"turtle\"))"
   ]
  },
  {
   "cell_type": "code",
   "execution_count": 310,
   "metadata": {},
   "outputs": [],
   "source": [
    "# print(g.serialize(format=\"xml\"))"
   ]
  },
  {
   "cell_type": "markdown",
   "metadata": {},
   "source": [
    "### Build CSV file"
   ]
  },
  {
   "cell_type": "code",
   "execution_count": 256,
   "metadata": {},
   "outputs": [],
   "source": [
    "import itertools\n",
    "import json\n",
    "import pandas as pd"
   ]
  },
  {
   "cell_type": "code",
   "execution_count": 160,
   "metadata": {},
   "outputs": [],
   "source": [
    "manager2team_name = dict()\n",
    "player2teammtes = dict()\n",
    "player2teamnames = dict()\n",
    "teamname2tourname = dict()\n",
    "stadium2teamname = dict()\n",
    "player2info = dict()\n",
    "teamname2teamnameRegion = dict()"
   ]
  },
  {
   "cell_type": "code",
   "execution_count": 161,
   "metadata": {},
   "outputs": [],
   "source": [
    "data = []\n",
    "player_keys = ['name', 'positionText', 'height', 'weight', 'age']\n",
    "player_info = []\n",
    "\n",
    "teamname_keys = ['teamName', 'name', 'tournamentName', 'teamRegionName', 'tournamentRegionName']\n",
    "teamname_info = []"
   ]
  },
  {
   "cell_type": "code",
   "execution_count": 162,
   "metadata": {},
   "outputs": [],
   "source": [
    "directory = 'football_player_info'\n",
    "for filename in os.listdir(directory):\n",
    "    f = os.path.join(directory, filename)\n",
    "    # if os.path.isfile(f):\n",
    "        # print(f)\n",
    "    with open(f, 'r', encoding='utf8') as f:\n",
    "        data = json.load(f)['playerTableStats']\n",
    "    \n",
    "    for i in data:\n",
    "        \n",
    "        player_info.append([i[p] for p in player_keys])\n",
    "        teamname_info.append([i[t] for t in teamname_keys])\n",
    "\n",
    "player_info.sort()\n",
    "player_info = list(player_info for player_info,_ in itertools.groupby(player_info))\n",
    "\n",
    "teamname_info.sort()\n",
    "teamname_info = list(teamname_info for teamname_info,_ in itertools.groupby(teamname_info))"
   ]
  },
  {
   "cell_type": "code",
   "execution_count": 163,
   "metadata": {},
   "outputs": [
    {
     "data": {
      "text/plain": [
       "[['Aleksandar Mitrovic', 'Forward', 189, 90, 28]]"
      ]
     },
     "execution_count": 163,
     "metadata": {},
     "output_type": "execute_result"
    }
   ],
   "source": [
    "player_info[:1]"
   ]
  },
  {
   "cell_type": "code",
   "execution_count": 158,
   "metadata": {},
   "outputs": [
    {
     "data": {
      "text/plain": [
       "[['Ajax', 'Antony', 'Dutch Super Cup', 'Netherlands', 'Netherlands']]"
      ]
     },
     "execution_count": 158,
     "metadata": {},
     "output_type": "execute_result"
    }
   ],
   "source": [
    "teamname_info[:1]"
   ]
  },
  {
   "cell_type": "code",
   "execution_count": 159,
   "metadata": {},
   "outputs": [],
   "source": [
    "player_df = pd.DataFrame(player_info, columns=['player_name', 'position', 'height', 'weight', 'age'])\n",
    "player_df.to_csv('player_info.csv', index=False)"
   ]
  },
  {
   "cell_type": "code",
   "execution_count": 75,
   "metadata": {},
   "outputs": [],
   "source": [
    "teamname_df = pd.DataFrame(teamname_info, columns=['team_name', 'player_name', 'tourname', 'team_name_region', 'tour_name_region'])\n",
    "teamname_df.to_csv('teamname_info.csv', index=False)"
   ]
  },
  {
   "cell_type": "code",
   "execution_count": null,
   "metadata": {},
   "outputs": [],
   "source": []
  },
  {
   "cell_type": "code",
   "execution_count": null,
   "metadata": {},
   "outputs": [],
   "source": []
  },
  {
   "cell_type": "markdown",
   "metadata": {},
   "source": [
    "### Add to ontology"
   ]
  },
  {
   "cell_type": "code",
   "execution_count": 3,
   "metadata": {},
   "outputs": [
    {
     "data": {
      "text/plain": [
       "<Graph identifier=Na89b9466b6474291847d7c24e235601e (<class 'rdflib.graph.Graph'>)>"
      ]
     },
     "execution_count": 3,
     "metadata": {},
     "output_type": "execute_result"
    }
   ],
   "source": [
    "g = Graph()\n",
    "g.parse(\"input.owl\")\n",
    "# print(g.serialize(format=\"turtle\"))"
   ]
  },
  {
   "cell_type": "code",
   "execution_count": null,
   "metadata": {},
   "outputs": [],
   "source": []
  },
  {
   "cell_type": "markdown",
   "metadata": {},
   "source": [
    "#### Data Property"
   ]
  },
  {
   "cell_type": "markdown",
   "metadata": {},
   "source": [
    "##### Add player info"
   ]
  },
  {
   "cell_type": "code",
   "execution_count": 363,
   "metadata": {},
   "outputs": [],
   "source": [
    "player_df = pd.read_csv('player_info.csv')\n",
    "# player_df.head()"
   ]
  },
  {
   "cell_type": "code",
   "execution_count": 364,
   "metadata": {},
   "outputs": [],
   "source": [
    "team_name2players, player2team_name = dict(), dict()\n",
    "for index, row in player_df.iterrows():\n",
    "    sample = row.to_dict()\n",
    "    # try:\n",
    "    x = Player(sample)\n",
    "    x.add_name(g)\n",
    "    x.add_position(g)\n",
    "    x.add_age(g)\n",
    "    x.add_weight(g)\n",
    "    x.add_height(g)\n",
    "    # except:\n",
    "    #     print('error')\n",
    "\n",
    "    # if index == 5:\n",
    "    #     break"
   ]
  },
  {
   "cell_type": "code",
   "execution_count": 365,
   "metadata": {},
   "outputs": [],
   "source": [
    "# print(g.serialize(format=\"xml\"))"
   ]
  },
  {
   "cell_type": "markdown",
   "metadata": {},
   "source": [
    "##### Add stadium"
   ]
  },
  {
   "cell_type": "code",
   "execution_count": 366,
   "metadata": {},
   "outputs": [],
   "source": [
    "stadium_df = pd.read_csv('stadium_info.csv')\n",
    "# stadium_df"
   ]
  },
  {
   "cell_type": "code",
   "execution_count": 367,
   "metadata": {},
   "outputs": [],
   "source": [
    "team_name2players, player2team_name = dict(), dict()\n",
    "for index, row in stadium_df.iterrows():\n",
    "    sample = row.to_dict()\n",
    "    # try:\n",
    "    x = Stadium(sample)\n",
    "    x.add_stadium(g)\n",
    "    x.add_location(g)\n",
    "    x.add_capacity(g)\n",
    "    # except:\n",
    "    #     print('error')\n",
    "\n",
    "    # if index == 5:\n",
    "    #     break"
   ]
  },
  {
   "cell_type": "markdown",
   "metadata": {},
   "source": [
    "##### Add teamname"
   ]
  },
  {
   "cell_type": "code",
   "execution_count": 368,
   "metadata": {},
   "outputs": [],
   "source": [
    "teamname_df = pd.read_csv('teamname_info.csv')\n",
    "for index, row in teamname_df.iterrows():\n",
    "    sample = row.to_dict()\n",
    "    # try:\n",
    "    x = TeamName(sample)\n",
    "    x.add_teamname(g)\n",
    "    x.add_teamNameRegion(g)\n",
    "        # x.add_location(g)\n",
    "        # x.add_capacity(g)\n",
    "    # except:\n",
    "    #     print('error')\n",
    "\n",
    "    # if index == 5:\n",
    "    #     break"
   ]
  },
  {
   "cell_type": "markdown",
   "metadata": {},
   "source": [
    "##### Add tour name"
   ]
  },
  {
   "cell_type": "code",
   "execution_count": 369,
   "metadata": {},
   "outputs": [],
   "source": [
    "teamname_df = pd.read_csv('teamname_info.csv')\n",
    "for index, row in teamname_df.iterrows():\n",
    "    sample = row.to_dict()\n",
    "    # try:\n",
    "    x = Tournament(sample)\n",
    "    x.add_tourname(g)\n",
    "    x.add_tournameRegionName(g)\n",
    "    # except:\n",
    "    #     print('error')\n",
    "\n",
    "\n",
    "    # if index == 5:\n",
    "    #     break"
   ]
  },
  {
   "cell_type": "markdown",
   "metadata": {},
   "source": [
    "##### Add manager"
   ]
  },
  {
   "cell_type": "code",
   "execution_count": 370,
   "metadata": {},
   "outputs": [],
   "source": [
    "manager_df = pd.read_csv('manager_info.csv')\n",
    "for index, row in manager_df.iterrows():\n",
    "    sample = row.to_dict()\n",
    "    # try:\n",
    "    x = Manager(sample)\n",
    "    x.add_name(g)\n",
    "    # except:\n",
    "    #     print('error')\n",
    "\n",
    "    # if index == 5:\n",
    "    #     break"
   ]
  },
  {
   "cell_type": "code",
   "execution_count": 371,
   "metadata": {},
   "outputs": [],
   "source": [
    "# set(teamnames)"
   ]
  },
  {
   "cell_type": "markdown",
   "metadata": {},
   "source": [
    "#### Object Property"
   ]
  },
  {
   "cell_type": "markdown",
   "metadata": {},
   "source": [
    "##### Add completeIn relation"
   ]
  },
  {
   "cell_type": "code",
   "execution_count": 372,
   "metadata": {},
   "outputs": [],
   "source": [
    "teamname_df = pd.read_csv('teamname_info.csv')\n",
    "for index, row in teamname_df.iterrows():\n",
    "    sample = row.to_dict()\n",
    "    if sample['team_name'] in norm_teamname:\n",
    "        sample['team_name'] = norm_teamname[sample['team_name']]\n",
    "    team_name, tournament = sample['team_name'], sample['tourname']\n",
    "    try:\n",
    "        # x = URIRef(prefix + '_'.join(team_name.split()))\n",
    "        # y = URIRef(prefix + '_'.join(tournament.split()))\n",
    "        # g.add((x, ObjectProperty.completeIn, y))\n",
    "\n",
    "        complete_in(g, team_name, tournament)\n",
    "    except:\n",
    "        print('error')\n",
    "\n",
    "    # if index == 5:\n",
    "    #     break"
   ]
  },
  {
   "cell_type": "markdown",
   "metadata": {},
   "source": [
    "##### isHostOf"
   ]
  },
  {
   "cell_type": "code",
   "execution_count": 373,
   "metadata": {},
   "outputs": [],
   "source": [
    "teamname_df = pd.read_csv('stadium_info.csv')\n",
    "for index, row in teamname_df.iterrows():\n",
    "    sample = row.to_dict()\n",
    "    stadium, team = sample['Stadium'], norm_teamname[sample['Team']]\n",
    "    try:\n",
    "        isHostOf(g, stadium, team)\n",
    "    except:\n",
    "        print('error')\n",
    "    # if index == 5:\n",
    "    #     break"
   ]
  },
  {
   "cell_type": "markdown",
   "metadata": {},
   "source": [
    "##### managerAt"
   ]
  },
  {
   "cell_type": "code",
   "execution_count": 374,
   "metadata": {},
   "outputs": [],
   "source": [
    "df = pd.read_csv('manager_info.csv')\n",
    "for index, row in df.iterrows():\n",
    "    sample = row.to_dict()\n",
    "    manager, team = sample['Manager'], norm_teamname[sample['Team']]\n",
    "    try:\n",
    "        # print(team_name)\n",
    "        # print(tournament)\n",
    "        manageAt(g, manager, team)\n",
    "    except:\n",
    "        print('error')\n",
    "    # if index == 5:\n",
    "    #     break"
   ]
  },
  {
   "cell_type": "markdown",
   "metadata": {},
   "source": [
    "##### playFor"
   ]
  },
  {
   "cell_type": "code",
   "execution_count": 375,
   "metadata": {},
   "outputs": [],
   "source": [
    "df = pd.read_csv('teamname_info.csv')\n",
    "df = df[['team_name', 'player_name']]\n",
    "df = df.drop_duplicates()\n",
    "\n",
    "for index, row in df.iterrows():\n",
    "    sample = row.to_dict()\n",
    "    player, team = sample['player_name'], norm_teamname[sample['team_name']] if sample['team_name'] in norm_teamname else sample['team_name']\n",
    "    play_for(g, player, team)    "
   ]
  },
  {
   "cell_type": "code",
   "execution_count": null,
   "metadata": {},
   "outputs": [],
   "source": []
  },
  {
   "cell_type": "code",
   "execution_count": null,
   "metadata": {},
   "outputs": [],
   "source": []
  },
  {
   "cell_type": "code",
   "execution_count": 140,
   "metadata": {},
   "outputs": [],
   "source": [
    "# g.serialize(format=\"xml\")"
   ]
  },
  {
   "cell_type": "code",
   "execution_count": 376,
   "metadata": {},
   "outputs": [
    {
     "data": {
      "text/plain": [
       "<Graph identifier=Ne12359145aad4186b1770b7fa30881ae (<class 'rdflib.graph.Graph'>)>"
      ]
     },
     "execution_count": 376,
     "metadata": {},
     "output_type": "execute_result"
    }
   ],
   "source": [
    "g.serialize(destination='football_ontology.owl', format=\"xml\") "
   ]
  }
 ],
 "metadata": {
  "kernelspec": {
   "display_name": "Python 3.8.5 ('base')",
   "language": "python",
   "name": "python3"
  },
  "language_info": {
   "codemirror_mode": {
    "name": "ipython",
    "version": 3
   },
   "file_extension": ".py",
   "mimetype": "text/x-python",
   "name": "python",
   "nbconvert_exporter": "python",
   "pygments_lexer": "ipython3",
   "version": "3.8.5"
  },
  "orig_nbformat": 4,
  "vscode": {
   "interpreter": {
    "hash": "430f9c1082f40c2660bee63ac7e34d759759f4d8477075556f305ad17a68a1b1"
   }
  }
 },
 "nbformat": 4,
 "nbformat_minor": 2
}
